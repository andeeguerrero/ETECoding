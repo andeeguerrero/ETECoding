{
 "cells": [
  {
   "cell_type": "markdown",
   "id": "0209af47-6b8d-4f34-8292-aa79deef5088",
   "metadata": {},
   "source": [
    "# Lab 2 - Refactoring\n",
    "## Refactoring is:\n",
    "\n",
    "Refactoring is the process of restructuring or rewriting code, while not changing its original functionality. The goal of refactoring is to improve internal code by making many small changes without altering the code's external behavior. \n",
    "\n",
    "It is easier said than done. "
   ]
  },
  {
   "cell_type": "markdown",
   "id": "f470981d-7433-42f0-a742-a9ddeae57056",
   "metadata": {},
   "source": [
    "### Part 1 - Warm up\n",
    "\n",
    "You will refactor the following code:"
   ]
  },
  {
   "cell_type": "code",
   "execution_count": 1,
   "id": "b817e22e-46ae-4dfe-9a38-c3d3e818168b",
   "metadata": {},
   "outputs": [
    {
     "name": "stdout",
     "output_type": "stream",
     "text": [
      "Enter a number: 2\n",
      "5 is more than 2\n"
     ]
    }
   ],
   "source": [
    "#stolen from https://realpython.com/python-refactoring/\n",
    "#yes you can go there and look at what they did no do it yourself\n",
    "x = 5\n",
    "value = input(\"Enter a number: \")\n",
    "y = int(value)\n",
    "if x < y:\n",
    "    print(f\"{x} is less than {y}\")\n",
    "elif x == y:\n",
    "    print(f\"{x} is equal to {y}\")\n",
    "else:\n",
    "    print(f\"{x} is more than {y}\")"
   ]
  },
  {
   "cell_type": "code",
   "execution_count": 1,
   "id": "033cf53c-96bc-4174-813d-09ad088787d6",
   "metadata": {},
   "outputs": [
    {
     "name": "stdout",
     "output_type": "stream",
     "text": [
      "Enter a number: 6\n",
      "5 is less than 6\n"
     ]
    }
   ],
   "source": [
    "# put your refactored code here\n",
    "x = 5\n",
    "value = int(input(\"Enter a number: \"))\n",
    "newvalue = \"less than\" if x < value else \"equal to\" if x==value else \"more than\"\n",
    "print(f\"{x} is {newvalue} {value}\")"
   ]
  },
  {
   "cell_type": "markdown",
   "id": "bb9edc37-9bd7-4b4a-8ec1-d1465d85be37",
   "metadata": {},
   "source": [
    "## Part 2\n",
    "Refactor Lab 1 into a function that can be used over and over again"
   ]
  },
  {
   "cell_type": "code",
   "execution_count": 7,
   "id": "733c4d16-c02c-4058-9cb6-4b751c86dc93",
   "metadata": {},
   "outputs": [
    {
     "name": "stdout",
     "output_type": "stream",
     "text": [
      "Welcome to the Dice Game. Roll the Dice against the Comp., and the highest roll wins!\n",
      "Press Enter to roll dice.\n",
      "You rolled a 3\n",
      "The computer rolled a 6\n",
      "You lost against the computer :/ \n",
      "Press Enter to roll dice.\n",
      "You rolled a 3\n",
      "The computer rolled a 3\n",
      "You tied :P \n",
      "Press Enter to roll dice.\n",
      "You rolled a 6\n",
      "The computer rolled a 1\n",
      "You won!\n",
      "Press Enter to roll dice.\n",
      "You rolled a 2\n",
      "The computer rolled a 5\n",
      "You lost against the computer :/ \n",
      "Press Enter to roll dice.\n",
      "You rolled a 3\n",
      "The computer rolled a 3\n",
      "You tied :P \n",
      "Press Enter to roll dice.\n",
      "You rolled a 1\n",
      "The computer rolled a 5\n",
      "You lost against the computer :/ \n",
      "\n",
      "Gameplay Stats:\n",
      "\n",
      "Total Wins: 1\n",
      "Total Losses: 3\n",
      "Total Ties: 2\n",
      "\n",
      "\n",
      "******************Gameplay Results:******************\n",
      " Loss, Tie, Win, Loss, Tie, Loss\n"
     ]
    }
   ],
   "source": [
    "import random\n",
    "\n",
    "#Initializes classes instead of global variables, making code easier to read\n",
    "\n",
    "class DiceGame:\n",
    "    def __init__(self):\n",
    "        self.wins = 0\n",
    "        self.losses = 0\n",
    "        self.ties = 0\n",
    "        self.gameplay_results = []\n",
    "\n",
    "#this area updates the game statistics more efficiently, since the functionalities are broken down inside the dice game class\n",
    "\n",
    "    def update_stats(self, result):\n",
    "        if result == \"win\":\n",
    "            self.wins += 1\n",
    "        elif result == \"loss\":\n",
    "            self.losses += 1\n",
    "        else:\n",
    "            self.ties += 1\n",
    "        self.gameplay_results.append(result.capitalize())\n",
    "        \n",
    "    def start_game(self):\n",
    "        print(\"Welcome to the Dice Game. Roll the Dice against the Comp., and the highest roll wins!\")\n",
    "        for _ in range(5):\n",
    "            input(\"Press Enter to roll dice.\")\n",
    "            player_roll, comp_roll = random.randint(1, 6), random.randint(1, 6)\n",
    "            print(f\"You rolled a {player_roll}\\nThe computer rolled a {comp_roll}\")\n",
    "            if player_roll > comp_roll:\n",
    "                print(\"You won!\")\n",
    "                self.update_stats(\"win\")\n",
    "            elif player_roll < comp_roll:\n",
    "                print(\"You lost. :/ \")\n",
    "                self.update_stats(\"loss\")\n",
    "            else:\n",
    "                print(\"You tied :P \")\n",
    "                self.update_stats(\"tie\")\n",
    "\n",
    "    def show_gameplay_stats(self):\n",
    "        print(\"\\nGameplay Stats:\\n\")\n",
    "        print(f\"Total Wins: {self.wins}\\nTotal Losses: {self.losses}\\nTotal Ties: {self.ties}\")\n",
    "        print(\"\\n\\n******************Gameplay Results:******************\\n\", ', '.join(self.gameplay_results))\n",
    "\n",
    "if __name__ == \"__main__\":\n",
    "    game = DiceGame()\n",
    "    game.start_game()\n",
    "    game.show_gameplay_stats()\n"
   ]
  },
  {
   "cell_type": "markdown",
   "id": "e589c6c8-f937-47e0-8db2-a37e03c12336",
   "metadata": {},
   "source": [
    "## Part 3 \n",
    "\n",
    "# But first a preview.... \n",
    "# Project #1  WIP This will change... \n",
    "\n",
    "You are project is to create a text based video game player profile, invintory system, and combat system. You must create a realistic player with at least 10 invintory items. Each item must have a discription and a trate assosiated with it. Have fun with this. \n",
    "\n",
    "You must use all items covered thus far (files (read and write), json, operators, lists, tuples(optional), functions, modules and classes)\n",
    "    \n",
    "- The adventure game should have the option to choose your player type\n",
    "  - Upon choosing your player type player atributes must be set ie wizard magic = 10, knight magic = 0 \n",
    "- Write a function to display the invintory of the player. \n",
    "- Write a function to get more detail on an item in the invintory.\n",
    "  - Knife \"forged in the depths of polymar\", +5 magic, edged weapon, one handed etc \n",
    "      - bonus points for calculating bonuses to wepons when equiping and dequiping \n",
    "- Write a function to add and remove items from the invintory\n",
    "- Ensure I am able to close the program and reload the character (ie files)\n",
    "    \n",
    "\n"
   ]
  },
  {
   "cell_type": "markdown",
   "id": "1fe3ba5e-722b-4ed8-b36f-c9ebd718bd7d",
   "metadata": {},
   "source": [
    "# Project 1 - Part 1\n",
    "Spend time planning out your code. You may work with your partner to plan out your code. How would you like your game to play? \n",
    "\n",
    "Use a UML planner like: \n",
    "\n",
    "\n",
    "https://miro.com/\n"
   ]
  },
  {
   "cell_type": "code",
   "execution_count": null,
   "id": "3bdce5be-0a31-4cf9-ba17-0f5be8cefc33",
   "metadata": {},
   "outputs": [],
   "source": []
  }
 ],
 "metadata": {
  "kernelspec": {
   "display_name": "Python 3 (ipykernel)",
   "language": "python",
   "name": "python3"
  },
  "language_info": {
   "codemirror_mode": {
    "name": "ipython",
    "version": 3
   },
   "file_extension": ".py",
   "mimetype": "text/x-python",
   "name": "python",
   "nbconvert_exporter": "python",
   "pygments_lexer": "ipython3",
   "version": "3.11.5"
  }
 },
 "nbformat": 4,
 "nbformat_minor": 5
}
